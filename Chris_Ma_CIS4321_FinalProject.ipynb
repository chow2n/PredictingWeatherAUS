{
  "nbformat": 4,
  "nbformat_minor": 0,
  "metadata": {
    "colab": {
      "name": "Chris_Ma_CIS4321_FinalProject.ipynb",
      "provenance": []
    },
    "kernelspec": {
      "name": "python3",
      "display_name": "Python 3"
    },
    "language_info": {
      "name": "python"
    }
  },
  "cells": [
    {
      "cell_type": "code",
      "metadata": {
        "id": "gXPhiBEqzBgN"
      },
      "source": [
        "import seaborn as sns\n",
        "sns.set(style='whitegrid', palette=\"deep\", font_scale=1.1, rc={\"figure.figsize\": [15, 10]})\n",
        "import matplotlib.pyplot as plt\n",
        "import numpy as np\n",
        "import pandas as pd\n",
        "import warnings\n",
        "warnings.filterwarnings('ignore')"
      ],
      "execution_count": null,
      "outputs": []
    },
    {
      "cell_type": "code",
      "metadata": {
        "colab": {
          "base_uri": "https://localhost:8080/",
          "height": 309
        },
        "id": "UbWdMy4M0nf8",
        "outputId": "ab6ebd04-7064-490c-e18e-3e4949d36c9e"
      },
      "source": [
        "filepath = \"/content/drive/MyDrive/College/4th/spring/cis4321/Final Project/weatherAUS.csv\"\n",
        "rain_df = pd.read_csv(filepath)\n",
        "rain_df.head()"
      ],
      "execution_count": null,
      "outputs": [
        {
          "output_type": "execute_result",
          "data": {
            "text/html": [
              "<div>\n",
              "<style scoped>\n",
              "    .dataframe tbody tr th:only-of-type {\n",
              "        vertical-align: middle;\n",
              "    }\n",
              "\n",
              "    .dataframe tbody tr th {\n",
              "        vertical-align: top;\n",
              "    }\n",
              "\n",
              "    .dataframe thead th {\n",
              "        text-align: right;\n",
              "    }\n",
              "</style>\n",
              "<table border=\"1\" class=\"dataframe\">\n",
              "  <thead>\n",
              "    <tr style=\"text-align: right;\">\n",
              "      <th></th>\n",
              "      <th>Date</th>\n",
              "      <th>Location</th>\n",
              "      <th>MinTemp</th>\n",
              "      <th>MaxTemp</th>\n",
              "      <th>Rainfall</th>\n",
              "      <th>Evaporation</th>\n",
              "      <th>Sunshine</th>\n",
              "      <th>WindGustDir</th>\n",
              "      <th>WindGustSpeed</th>\n",
              "      <th>WindDir9am</th>\n",
              "      <th>WindDir3pm</th>\n",
              "      <th>WindSpeed9am</th>\n",
              "      <th>WindSpeed3pm</th>\n",
              "      <th>Humidity9am</th>\n",
              "      <th>Humidity3pm</th>\n",
              "      <th>Pressure9am</th>\n",
              "      <th>Pressure3pm</th>\n",
              "      <th>Cloud9am</th>\n",
              "      <th>Cloud3pm</th>\n",
              "      <th>Temp9am</th>\n",
              "      <th>Temp3pm</th>\n",
              "      <th>RainToday</th>\n",
              "      <th>RainTomorrow</th>\n",
              "    </tr>\n",
              "  </thead>\n",
              "  <tbody>\n",
              "    <tr>\n",
              "      <th>0</th>\n",
              "      <td>2008-12-01</td>\n",
              "      <td>Albury</td>\n",
              "      <td>13.4</td>\n",
              "      <td>22.9</td>\n",
              "      <td>0.6</td>\n",
              "      <td>NaN</td>\n",
              "      <td>NaN</td>\n",
              "      <td>W</td>\n",
              "      <td>44.0</td>\n",
              "      <td>W</td>\n",
              "      <td>WNW</td>\n",
              "      <td>20.0</td>\n",
              "      <td>24.0</td>\n",
              "      <td>71.0</td>\n",
              "      <td>22.0</td>\n",
              "      <td>1007.7</td>\n",
              "      <td>1007.1</td>\n",
              "      <td>8.0</td>\n",
              "      <td>NaN</td>\n",
              "      <td>16.9</td>\n",
              "      <td>21.8</td>\n",
              "      <td>No</td>\n",
              "      <td>No</td>\n",
              "    </tr>\n",
              "    <tr>\n",
              "      <th>1</th>\n",
              "      <td>2008-12-02</td>\n",
              "      <td>Albury</td>\n",
              "      <td>7.4</td>\n",
              "      <td>25.1</td>\n",
              "      <td>0.0</td>\n",
              "      <td>NaN</td>\n",
              "      <td>NaN</td>\n",
              "      <td>WNW</td>\n",
              "      <td>44.0</td>\n",
              "      <td>NNW</td>\n",
              "      <td>WSW</td>\n",
              "      <td>4.0</td>\n",
              "      <td>22.0</td>\n",
              "      <td>44.0</td>\n",
              "      <td>25.0</td>\n",
              "      <td>1010.6</td>\n",
              "      <td>1007.8</td>\n",
              "      <td>NaN</td>\n",
              "      <td>NaN</td>\n",
              "      <td>17.2</td>\n",
              "      <td>24.3</td>\n",
              "      <td>No</td>\n",
              "      <td>No</td>\n",
              "    </tr>\n",
              "    <tr>\n",
              "      <th>2</th>\n",
              "      <td>2008-12-03</td>\n",
              "      <td>Albury</td>\n",
              "      <td>12.9</td>\n",
              "      <td>25.7</td>\n",
              "      <td>0.0</td>\n",
              "      <td>NaN</td>\n",
              "      <td>NaN</td>\n",
              "      <td>WSW</td>\n",
              "      <td>46.0</td>\n",
              "      <td>W</td>\n",
              "      <td>WSW</td>\n",
              "      <td>19.0</td>\n",
              "      <td>26.0</td>\n",
              "      <td>38.0</td>\n",
              "      <td>30.0</td>\n",
              "      <td>1007.6</td>\n",
              "      <td>1008.7</td>\n",
              "      <td>NaN</td>\n",
              "      <td>2.0</td>\n",
              "      <td>21.0</td>\n",
              "      <td>23.2</td>\n",
              "      <td>No</td>\n",
              "      <td>No</td>\n",
              "    </tr>\n",
              "    <tr>\n",
              "      <th>3</th>\n",
              "      <td>2008-12-04</td>\n",
              "      <td>Albury</td>\n",
              "      <td>9.2</td>\n",
              "      <td>28.0</td>\n",
              "      <td>0.0</td>\n",
              "      <td>NaN</td>\n",
              "      <td>NaN</td>\n",
              "      <td>NE</td>\n",
              "      <td>24.0</td>\n",
              "      <td>SE</td>\n",
              "      <td>E</td>\n",
              "      <td>11.0</td>\n",
              "      <td>9.0</td>\n",
              "      <td>45.0</td>\n",
              "      <td>16.0</td>\n",
              "      <td>1017.6</td>\n",
              "      <td>1012.8</td>\n",
              "      <td>NaN</td>\n",
              "      <td>NaN</td>\n",
              "      <td>18.1</td>\n",
              "      <td>26.5</td>\n",
              "      <td>No</td>\n",
              "      <td>No</td>\n",
              "    </tr>\n",
              "    <tr>\n",
              "      <th>4</th>\n",
              "      <td>2008-12-05</td>\n",
              "      <td>Albury</td>\n",
              "      <td>17.5</td>\n",
              "      <td>32.3</td>\n",
              "      <td>1.0</td>\n",
              "      <td>NaN</td>\n",
              "      <td>NaN</td>\n",
              "      <td>W</td>\n",
              "      <td>41.0</td>\n",
              "      <td>ENE</td>\n",
              "      <td>NW</td>\n",
              "      <td>7.0</td>\n",
              "      <td>20.0</td>\n",
              "      <td>82.0</td>\n",
              "      <td>33.0</td>\n",
              "      <td>1010.8</td>\n",
              "      <td>1006.0</td>\n",
              "      <td>7.0</td>\n",
              "      <td>8.0</td>\n",
              "      <td>17.8</td>\n",
              "      <td>29.7</td>\n",
              "      <td>No</td>\n",
              "      <td>No</td>\n",
              "    </tr>\n",
              "  </tbody>\n",
              "</table>\n",
              "</div>"
            ],
            "text/plain": [
              "         Date Location  MinTemp  ...  Temp3pm  RainToday  RainTomorrow\n",
              "0  2008-12-01   Albury     13.4  ...     21.8         No            No\n",
              "1  2008-12-02   Albury      7.4  ...     24.3         No            No\n",
              "2  2008-12-03   Albury     12.9  ...     23.2         No            No\n",
              "3  2008-12-04   Albury      9.2  ...     26.5         No            No\n",
              "4  2008-12-05   Albury     17.5  ...     29.7         No            No\n",
              "\n",
              "[5 rows x 23 columns]"
            ]
          },
          "metadata": {
            "tags": []
          },
          "execution_count": 3
        }
      ]
    },
    {
      "cell_type": "code",
      "metadata": {
        "colab": {
          "base_uri": "https://localhost:8080/"
        },
        "id": "YCejKQaW2Np_",
        "outputId": "741c48b6-1dde-429e-dd76-764ddbfc218b"
      },
      "source": [
        "rain_df.info()"
      ],
      "execution_count": null,
      "outputs": [
        {
          "output_type": "stream",
          "text": [
            "<class 'pandas.core.frame.DataFrame'>\n",
            "RangeIndex: 145460 entries, 0 to 145459\n",
            "Data columns (total 23 columns):\n",
            " #   Column         Non-Null Count   Dtype  \n",
            "---  ------         --------------   -----  \n",
            " 0   Date           145460 non-null  object \n",
            " 1   Location       145460 non-null  object \n",
            " 2   MinTemp        143975 non-null  float64\n",
            " 3   MaxTemp        144199 non-null  float64\n",
            " 4   Rainfall       142199 non-null  float64\n",
            " 5   Evaporation    82670 non-null   float64\n",
            " 6   Sunshine       75625 non-null   float64\n",
            " 7   WindGustDir    135134 non-null  object \n",
            " 8   WindGustSpeed  135197 non-null  float64\n",
            " 9   WindDir9am     134894 non-null  object \n",
            " 10  WindDir3pm     141232 non-null  object \n",
            " 11  WindSpeed9am   143693 non-null  float64\n",
            " 12  WindSpeed3pm   142398 non-null  float64\n",
            " 13  Humidity9am    142806 non-null  float64\n",
            " 14  Humidity3pm    140953 non-null  float64\n",
            " 15  Pressure9am    130395 non-null  float64\n",
            " 16  Pressure3pm    130432 non-null  float64\n",
            " 17  Cloud9am       89572 non-null   float64\n",
            " 18  Cloud3pm       86102 non-null   float64\n",
            " 19  Temp9am        143693 non-null  float64\n",
            " 20  Temp3pm        141851 non-null  float64\n",
            " 21  RainToday      142199 non-null  object \n",
            " 22  RainTomorrow   142193 non-null  object \n",
            "dtypes: float64(16), object(7)\n",
            "memory usage: 25.5+ MB\n"
          ],
          "name": "stdout"
        }
      ]
    },
    {
      "cell_type": "markdown",
      "metadata": {
        "id": "VzoNsuagoemr"
      },
      "source": [
        "After checking some common information on the dataset and making sure it has successfully been put into a Pandas data frame, I will check to see any null values in the data set. "
      ]
    },
    {
      "cell_type": "code",
      "metadata": {
        "colab": {
          "base_uri": "https://localhost:8080/"
        },
        "id": "a4KArDhYoFA7",
        "outputId": "f017fef9-8175-4adf-ab0c-045f89d6c904"
      },
      "source": [
        "rain_df.isnull().sum()"
      ],
      "execution_count": null,
      "outputs": [
        {
          "output_type": "execute_result",
          "data": {
            "text/plain": [
              "Date                 0\n",
              "Location             0\n",
              "MinTemp           1485\n",
              "MaxTemp           1261\n",
              "Rainfall          3261\n",
              "Evaporation      62790\n",
              "Sunshine         69835\n",
              "WindGustDir      10326\n",
              "WindGustSpeed    10263\n",
              "WindDir9am       10566\n",
              "WindDir3pm        4228\n",
              "WindSpeed9am      1767\n",
              "WindSpeed3pm      3062\n",
              "Humidity9am       2654\n",
              "Humidity3pm       4507\n",
              "Pressure9am      15065\n",
              "Pressure3pm      15028\n",
              "Cloud9am         55888\n",
              "Cloud3pm         59358\n",
              "Temp9am           1767\n",
              "Temp3pm           3609\n",
              "RainToday         3261\n",
              "RainTomorrow      3267\n",
              "dtype: int64"
            ]
          },
          "metadata": {
            "tags": []
          },
          "execution_count": 5
        }
      ]
    },
    {
      "cell_type": "markdown",
      "metadata": {
        "id": "9PScYEslpAVn"
      },
      "source": [
        "I will now drop all rows with observations that are null."
      ]
    },
    {
      "cell_type": "code",
      "metadata": {
        "colab": {
          "base_uri": "https://localhost:8080/"
        },
        "id": "J-M7YAUeoJUX",
        "outputId": "34675b9f-d106-44ea-d8ad-c73ade0af217"
      },
      "source": [
        "rain_df.dropna(inplace = True)\n",
        "\n",
        "rain_df.isnull().sum()"
      ],
      "execution_count": null,
      "outputs": [
        {
          "output_type": "execute_result",
          "data": {
            "text/plain": [
              "Date             0\n",
              "Location         0\n",
              "MinTemp          0\n",
              "MaxTemp          0\n",
              "Rainfall         0\n",
              "Evaporation      0\n",
              "Sunshine         0\n",
              "WindGustDir      0\n",
              "WindGustSpeed    0\n",
              "WindDir9am       0\n",
              "WindDir3pm       0\n",
              "WindSpeed9am     0\n",
              "WindSpeed3pm     0\n",
              "Humidity9am      0\n",
              "Humidity3pm      0\n",
              "Pressure9am      0\n",
              "Pressure3pm      0\n",
              "Cloud9am         0\n",
              "Cloud3pm         0\n",
              "Temp9am          0\n",
              "Temp3pm          0\n",
              "RainToday        0\n",
              "RainTomorrow     0\n",
              "dtype: int64"
            ]
          },
          "metadata": {
            "tags": []
          },
          "execution_count": 6
        }
      ]
    },
    {
      "cell_type": "markdown",
      "metadata": {
        "id": "Bm1OR41epGPf"
      },
      "source": [
        "After dropping rows with null observations, we still have over 50,000 observations to work with in the dataset. "
      ]
    },
    {
      "cell_type": "code",
      "metadata": {
        "colab": {
          "base_uri": "https://localhost:8080/"
        },
        "id": "X2nOxPmQoSMh",
        "outputId": "0b429a03-de69-4355-8c65-d41a607e5737"
      },
      "source": [
        "rain_df.info()"
      ],
      "execution_count": null,
      "outputs": [
        {
          "output_type": "stream",
          "text": [
            "<class 'pandas.core.frame.DataFrame'>\n",
            "Int64Index: 56420 entries, 6049 to 142302\n",
            "Data columns (total 23 columns):\n",
            " #   Column         Non-Null Count  Dtype  \n",
            "---  ------         --------------  -----  \n",
            " 0   Date           56420 non-null  object \n",
            " 1   Location       56420 non-null  object \n",
            " 2   MinTemp        56420 non-null  float64\n",
            " 3   MaxTemp        56420 non-null  float64\n",
            " 4   Rainfall       56420 non-null  float64\n",
            " 5   Evaporation    56420 non-null  float64\n",
            " 6   Sunshine       56420 non-null  float64\n",
            " 7   WindGustDir    56420 non-null  object \n",
            " 8   WindGustSpeed  56420 non-null  float64\n",
            " 9   WindDir9am     56420 non-null  object \n",
            " 10  WindDir3pm     56420 non-null  object \n",
            " 11  WindSpeed9am   56420 non-null  float64\n",
            " 12  WindSpeed3pm   56420 non-null  float64\n",
            " 13  Humidity9am    56420 non-null  float64\n",
            " 14  Humidity3pm    56420 non-null  float64\n",
            " 15  Pressure9am    56420 non-null  float64\n",
            " 16  Pressure3pm    56420 non-null  float64\n",
            " 17  Cloud9am       56420 non-null  float64\n",
            " 18  Cloud3pm       56420 non-null  float64\n",
            " 19  Temp9am        56420 non-null  float64\n",
            " 20  Temp3pm        56420 non-null  float64\n",
            " 21  RainToday      56420 non-null  object \n",
            " 22  RainTomorrow   56420 non-null  object \n",
            "dtypes: float64(16), object(7)\n",
            "memory usage: 10.3+ MB\n"
          ],
          "name": "stdout"
        }
      ]
    },
    {
      "cell_type": "code",
      "metadata": {
        "colab": {
          "base_uri": "https://localhost:8080/",
          "height": 309
        },
        "id": "q9ca0qn4qfJQ",
        "outputId": "524b8091-bcd7-4a83-d4a5-4a4eacafdccc"
      },
      "source": [
        "rain_df.head()"
      ],
      "execution_count": null,
      "outputs": [
        {
          "output_type": "execute_result",
          "data": {
            "text/html": [
              "<div>\n",
              "<style scoped>\n",
              "    .dataframe tbody tr th:only-of-type {\n",
              "        vertical-align: middle;\n",
              "    }\n",
              "\n",
              "    .dataframe tbody tr th {\n",
              "        vertical-align: top;\n",
              "    }\n",
              "\n",
              "    .dataframe thead th {\n",
              "        text-align: right;\n",
              "    }\n",
              "</style>\n",
              "<table border=\"1\" class=\"dataframe\">\n",
              "  <thead>\n",
              "    <tr style=\"text-align: right;\">\n",
              "      <th></th>\n",
              "      <th>Date</th>\n",
              "      <th>Location</th>\n",
              "      <th>MinTemp</th>\n",
              "      <th>MaxTemp</th>\n",
              "      <th>Rainfall</th>\n",
              "      <th>Evaporation</th>\n",
              "      <th>Sunshine</th>\n",
              "      <th>WindGustDir</th>\n",
              "      <th>WindGustSpeed</th>\n",
              "      <th>WindDir9am</th>\n",
              "      <th>WindDir3pm</th>\n",
              "      <th>WindSpeed9am</th>\n",
              "      <th>WindSpeed3pm</th>\n",
              "      <th>Humidity9am</th>\n",
              "      <th>Humidity3pm</th>\n",
              "      <th>Pressure9am</th>\n",
              "      <th>Pressure3pm</th>\n",
              "      <th>Cloud9am</th>\n",
              "      <th>Cloud3pm</th>\n",
              "      <th>Temp9am</th>\n",
              "      <th>Temp3pm</th>\n",
              "      <th>RainToday</th>\n",
              "      <th>RainTomorrow</th>\n",
              "    </tr>\n",
              "  </thead>\n",
              "  <tbody>\n",
              "    <tr>\n",
              "      <th>6049</th>\n",
              "      <td>2009-01-01</td>\n",
              "      <td>Cobar</td>\n",
              "      <td>17.9</td>\n",
              "      <td>35.2</td>\n",
              "      <td>0.0</td>\n",
              "      <td>12.0</td>\n",
              "      <td>12.3</td>\n",
              "      <td>SSW</td>\n",
              "      <td>48.0</td>\n",
              "      <td>ENE</td>\n",
              "      <td>SW</td>\n",
              "      <td>6.0</td>\n",
              "      <td>20.0</td>\n",
              "      <td>20.0</td>\n",
              "      <td>13.0</td>\n",
              "      <td>1006.3</td>\n",
              "      <td>1004.4</td>\n",
              "      <td>2.0</td>\n",
              "      <td>5.0</td>\n",
              "      <td>26.6</td>\n",
              "      <td>33.4</td>\n",
              "      <td>No</td>\n",
              "      <td>No</td>\n",
              "    </tr>\n",
              "    <tr>\n",
              "      <th>6050</th>\n",
              "      <td>2009-01-02</td>\n",
              "      <td>Cobar</td>\n",
              "      <td>18.4</td>\n",
              "      <td>28.9</td>\n",
              "      <td>0.0</td>\n",
              "      <td>14.8</td>\n",
              "      <td>13.0</td>\n",
              "      <td>S</td>\n",
              "      <td>37.0</td>\n",
              "      <td>SSE</td>\n",
              "      <td>SSE</td>\n",
              "      <td>19.0</td>\n",
              "      <td>19.0</td>\n",
              "      <td>30.0</td>\n",
              "      <td>8.0</td>\n",
              "      <td>1012.9</td>\n",
              "      <td>1012.1</td>\n",
              "      <td>1.0</td>\n",
              "      <td>1.0</td>\n",
              "      <td>20.3</td>\n",
              "      <td>27.0</td>\n",
              "      <td>No</td>\n",
              "      <td>No</td>\n",
              "    </tr>\n",
              "    <tr>\n",
              "      <th>6052</th>\n",
              "      <td>2009-01-04</td>\n",
              "      <td>Cobar</td>\n",
              "      <td>19.4</td>\n",
              "      <td>37.6</td>\n",
              "      <td>0.0</td>\n",
              "      <td>10.8</td>\n",
              "      <td>10.6</td>\n",
              "      <td>NNE</td>\n",
              "      <td>46.0</td>\n",
              "      <td>NNE</td>\n",
              "      <td>NNW</td>\n",
              "      <td>30.0</td>\n",
              "      <td>15.0</td>\n",
              "      <td>42.0</td>\n",
              "      <td>22.0</td>\n",
              "      <td>1012.3</td>\n",
              "      <td>1009.2</td>\n",
              "      <td>1.0</td>\n",
              "      <td>6.0</td>\n",
              "      <td>28.7</td>\n",
              "      <td>34.9</td>\n",
              "      <td>No</td>\n",
              "      <td>No</td>\n",
              "    </tr>\n",
              "    <tr>\n",
              "      <th>6053</th>\n",
              "      <td>2009-01-05</td>\n",
              "      <td>Cobar</td>\n",
              "      <td>21.9</td>\n",
              "      <td>38.4</td>\n",
              "      <td>0.0</td>\n",
              "      <td>11.4</td>\n",
              "      <td>12.2</td>\n",
              "      <td>WNW</td>\n",
              "      <td>31.0</td>\n",
              "      <td>WNW</td>\n",
              "      <td>WSW</td>\n",
              "      <td>6.0</td>\n",
              "      <td>6.0</td>\n",
              "      <td>37.0</td>\n",
              "      <td>22.0</td>\n",
              "      <td>1012.7</td>\n",
              "      <td>1009.1</td>\n",
              "      <td>1.0</td>\n",
              "      <td>5.0</td>\n",
              "      <td>29.1</td>\n",
              "      <td>35.6</td>\n",
              "      <td>No</td>\n",
              "      <td>No</td>\n",
              "    </tr>\n",
              "    <tr>\n",
              "      <th>6054</th>\n",
              "      <td>2009-01-06</td>\n",
              "      <td>Cobar</td>\n",
              "      <td>24.2</td>\n",
              "      <td>41.0</td>\n",
              "      <td>0.0</td>\n",
              "      <td>11.2</td>\n",
              "      <td>8.4</td>\n",
              "      <td>WNW</td>\n",
              "      <td>35.0</td>\n",
              "      <td>NW</td>\n",
              "      <td>WNW</td>\n",
              "      <td>17.0</td>\n",
              "      <td>13.0</td>\n",
              "      <td>19.0</td>\n",
              "      <td>15.0</td>\n",
              "      <td>1010.7</td>\n",
              "      <td>1007.4</td>\n",
              "      <td>1.0</td>\n",
              "      <td>6.0</td>\n",
              "      <td>33.6</td>\n",
              "      <td>37.6</td>\n",
              "      <td>No</td>\n",
              "      <td>No</td>\n",
              "    </tr>\n",
              "  </tbody>\n",
              "</table>\n",
              "</div>"
            ],
            "text/plain": [
              "            Date Location  MinTemp  ...  Temp3pm  RainToday  RainTomorrow\n",
              "6049  2009-01-01    Cobar     17.9  ...     33.4         No            No\n",
              "6050  2009-01-02    Cobar     18.4  ...     27.0         No            No\n",
              "6052  2009-01-04    Cobar     19.4  ...     34.9         No            No\n",
              "6053  2009-01-05    Cobar     21.9  ...     35.6         No            No\n",
              "6054  2009-01-06    Cobar     24.2  ...     37.6         No            No\n",
              "\n",
              "[5 rows x 23 columns]"
            ]
          },
          "metadata": {
            "tags": []
          },
          "execution_count": 8
        }
      ]
    },
    {
      "cell_type": "markdown",
      "metadata": {
        "id": "exVdNhoXpTXM"
      },
      "source": [
        "I will now split the data into a feature matrix (X) and a target variable (y). I will also drop several columns that we will not use."
      ]
    },
    {
      "cell_type": "code",
      "metadata": {
        "id": "62exBhMAoXiG"
      },
      "source": [
        "X = rain_df.drop(columns = [\"RainTomorrow\", \"Date\", \"WindGustDir\", \"WindDir9am\", \"WindDir3pm\", \"RainToday\"])\n",
        "y = rain_df[\"RainTomorrow\"]"
      ],
      "execution_count": null,
      "outputs": []
    },
    {
      "cell_type": "markdown",
      "metadata": {
        "id": "xEYaXBS2pdhR"
      },
      "source": [
        "Since the columns \"Location\" and \"RainTomorrow\" are strings, we need to convert these columns to numerical values using and LabelEncoder. After, we may normalize the data using StandardScaler from SKLearn and partition the data into training and testing sets."
      ]
    },
    {
      "cell_type": "code",
      "metadata": {
        "id": "IuCVtrnkuBng"
      },
      "source": [
        "from sklearn.preprocessing import LabelEncoder\n",
        "rain_le = LabelEncoder()\n",
        "rain_df[\"Location\"] = rain_le.fit_transform(rain_df[\"Location\"].values)\n",
        "rain_df[\"RainTomorrow\"] = rain_le.fit_transform(rain_df[\"RainTomorrow\"].values)"
      ],
      "execution_count": null,
      "outputs": []
    },
    {
      "cell_type": "code",
      "metadata": {
        "id": "Bw3qEsuqqla9"
      },
      "source": [
        "from sklearn.preprocessing import StandardScaler\n",
        "X = StandardScaler().fit_transform(X)"
      ],
      "execution_count": null,
      "outputs": []
    },
    {
      "cell_type": "code",
      "metadata": {
        "id": "hjOSgykMwyuX"
      },
      "source": [
        "from sklearn.model_selection import train_test_split\n",
        "X_train, X_test, y_train, y_test = train_test_split(X, y, test_size=0.3, random_state=0)"
      ],
      "execution_count": null,
      "outputs": []
    },
    {
      "cell_type": "markdown",
      "metadata": {
        "id": "YVteFmd9wRSQ"
      },
      "source": [
        "Now that we've normalized the predictor variables, we will use GridSearch to optimize 3 models."
      ]
    },
    {
      "cell_type": "code",
      "metadata": {
        "id": "exLo44bNwcmJ"
      },
      "source": [
        "from sklearn.model_selection import GridSearchCV"
      ],
      "execution_count": null,
      "outputs": []
    },
    {
      "cell_type": "markdown",
      "metadata": {
        "id": "MT9z6cb5wkDw"
      },
      "source": [
        "Decision Tree (DT)"
      ]
    },
    {
      "cell_type": "code",
      "metadata": {
        "colab": {
          "base_uri": "https://localhost:8080/"
        },
        "id": "Yb_DY7Wqwmx2",
        "outputId": "0041ecb5-b2e2-4def-9099-18627d0a8066"
      },
      "source": [
        "from sklearn.tree import DecisionTreeClassifier\n",
        "dt_model = DecisionTreeClassifier()\n",
        "\n",
        "parameter_space_dt = {\n",
        "    'min_samples_leaf' : range(2,50,2),\n",
        "    'max_depth': range(1,30,2),\n",
        "    'criterion'  :  ['gini', 'entropy']\n",
        "}\n",
        "\n",
        "dt = GridSearchCV(dt_model, parameter_space_dt, cv = 5)\n",
        "dt.fit(X_train, y_train)"
      ],
      "execution_count": null,
      "outputs": [
        {
          "output_type": "execute_result",
          "data": {
            "text/plain": [
              "GridSearchCV(cv=5, error_score=nan,\n",
              "             estimator=DecisionTreeClassifier(ccp_alpha=0.0, class_weight=None,\n",
              "                                              criterion='gini', max_depth=None,\n",
              "                                              max_features=None,\n",
              "                                              max_leaf_nodes=None,\n",
              "                                              min_impurity_decrease=0.0,\n",
              "                                              min_impurity_split=None,\n",
              "                                              min_samples_leaf=1,\n",
              "                                              min_samples_split=2,\n",
              "                                              min_weight_fraction_leaf=0.0,\n",
              "                                              presort='deprecated',\n",
              "                                              random_state=None,\n",
              "                                              splitter='best'),\n",
              "             iid='deprecated', n_jobs=None,\n",
              "             param_grid={'criterion': ['gini', 'entropy'],\n",
              "                         'max_depth': range(1, 30, 2),\n",
              "                         'min_samples_leaf': range(2, 50, 2)},\n",
              "             pre_dispatch='2*n_jobs', refit=True, return_train_score=False,\n",
              "             scoring=None, verbose=0)"
            ]
          },
          "metadata": {
            "tags": []
          },
          "execution_count": 17
        }
      ]
    },
    {
      "cell_type": "code",
      "metadata": {
        "colab": {
          "base_uri": "https://localhost:8080/"
        },
        "id": "-kPYFTBf1CYL",
        "outputId": "ce9c2f20-034a-4c21-b92a-33919a14f032"
      },
      "source": [
        "dt.best_params_"
      ],
      "execution_count": null,
      "outputs": [
        {
          "output_type": "execute_result",
          "data": {
            "text/plain": [
              "{'criterion': 'entropy', 'max_depth': 9, 'min_samples_leaf': 48}"
            ]
          },
          "metadata": {
            "tags": []
          },
          "execution_count": 18
        }
      ]
    },
    {
      "cell_type": "code",
      "metadata": {
        "colab": {
          "base_uri": "https://localhost:8080/"
        },
        "id": "ld-50MEl1DzU",
        "outputId": "9ef1569f-5347-4b9d-f17d-d953914d7795"
      },
      "source": [
        "dt.best_score_"
      ],
      "execution_count": null,
      "outputs": [
        {
          "output_type": "execute_result",
          "data": {
            "text/plain": [
              "0.8462044408402344"
            ]
          },
          "metadata": {
            "tags": []
          },
          "execution_count": 19
        }
      ]
    },
    {
      "cell_type": "markdown",
      "metadata": {
        "id": "uNmUDDAI0gk0"
      },
      "source": [
        "Logistic Regression (LR)"
      ]
    },
    {
      "cell_type": "code",
      "metadata": {
        "colab": {
          "base_uri": "https://localhost:8080/"
        },
        "id": "nGlK4j700j64",
        "outputId": "7d464e75-3f6e-4453-9867-af7f7d8ed805"
      },
      "source": [
        "from sklearn.linear_model import LogisticRegression \n",
        "lr_model = LogisticRegression()\n",
        "\n",
        "parameter_space_lr = {\n",
        "    'C': [0.0001, 0.001, 0.01, 0.1, 1, 5, 10, 25, 50, 100, 150, 250, 500, 1000]\n",
        "}\n",
        "\n",
        "lr = GridSearchCV(lr_model, parameter_space_lr, cv = 5)\n",
        "lr.fit(X_train, y_train)"
      ],
      "execution_count": null,
      "outputs": [
        {
          "output_type": "execute_result",
          "data": {
            "text/plain": [
              "GridSearchCV(cv=5, error_score=nan,\n",
              "             estimator=LogisticRegression(C=1.0, class_weight=None, dual=False,\n",
              "                                          fit_intercept=True,\n",
              "                                          intercept_scaling=1, l1_ratio=None,\n",
              "                                          max_iter=100, multi_class='auto',\n",
              "                                          n_jobs=None, penalty='l2',\n",
              "                                          random_state=None, solver='lbfgs',\n",
              "                                          tol=0.0001, verbose=0,\n",
              "                                          warm_start=False),\n",
              "             iid='deprecated', n_jobs=None,\n",
              "             param_grid={'C': [0.0001, 0.001, 0.01, 0.1, 1, 5, 10, 25, 50, 100,\n",
              "                               150, 250, 500, 1000]},\n",
              "             pre_dispatch='2*n_jobs', refit=True, return_train_score=False,\n",
              "             scoring=None, verbose=0)"
            ]
          },
          "metadata": {
            "tags": []
          },
          "execution_count": 20
        }
      ]
    },
    {
      "cell_type": "code",
      "metadata": {
        "colab": {
          "base_uri": "https://localhost:8080/"
        },
        "id": "nAOOv_mE1Hdh",
        "outputId": "7efb6a11-d1be-468f-9c0c-ac699ff2c216"
      },
      "source": [
        "lr.best_params_"
      ],
      "execution_count": null,
      "outputs": [
        {
          "output_type": "execute_result",
          "data": {
            "text/plain": [
              "{'C': 10}"
            ]
          },
          "metadata": {
            "tags": []
          },
          "execution_count": 21
        }
      ]
    },
    {
      "cell_type": "code",
      "metadata": {
        "colab": {
          "base_uri": "https://localhost:8080/"
        },
        "id": "07fNtNO71JO_",
        "outputId": "a7b3f433-77c1-4bfe-d9c7-f09f943f808f"
      },
      "source": [
        "lr.best_score_"
      ],
      "execution_count": null,
      "outputs": [
        {
          "output_type": "execute_result",
          "data": {
            "text/plain": [
              "0.8531676104155043"
            ]
          },
          "metadata": {
            "tags": []
          },
          "execution_count": 22
        }
      ]
    },
    {
      "cell_type": "markdown",
      "metadata": {
        "id": "eIXBfN8T1LgS"
      },
      "source": [
        "Neural Networks (NN)"
      ]
    },
    {
      "cell_type": "code",
      "metadata": {
        "id": "UF_06nVHAXIv",
        "colab": {
          "base_uri": "https://localhost:8080/"
        },
        "outputId": "e9179321-933e-43b0-e112-007e97c4f9ce"
      },
      "source": [
        "from sklearn.neural_network import MLPClassifier\n",
        "mlp_gs = MLPClassifier()\n",
        "\n",
        "parameter_space_nn = {\n",
        "    'hidden_layer_sizes': [(10,30,10),(20,50,20)],\n",
        "    'activation': ['tanh', 'relu', 'logistic'],\n",
        "    'alpha': [0.0001, 0.001, 0.05]\n",
        "}\n",
        "\n",
        "nn = GridSearchCV(mlp_gs, parameter_space_nn, cv = 5)\n",
        "nn.fit(X_train, y_train)"
      ],
      "execution_count": null,
      "outputs": [
        {
          "output_type": "execute_result",
          "data": {
            "text/plain": [
              "GridSearchCV(cv=5, error_score=nan,\n",
              "             estimator=MLPClassifier(activation='relu', alpha=0.0001,\n",
              "                                     batch_size='auto', beta_1=0.9,\n",
              "                                     beta_2=0.999, early_stopping=False,\n",
              "                                     epsilon=1e-08, hidden_layer_sizes=(100,),\n",
              "                                     learning_rate='constant',\n",
              "                                     learning_rate_init=0.001, max_fun=15000,\n",
              "                                     max_iter=200, momentum=0.9,\n",
              "                                     n_iter_no_change=10,\n",
              "                                     nesterovs_momentum=True, power_t=0.5,\n",
              "                                     random_state=None, shuffle=True,\n",
              "                                     solver='adam', tol=0.0001,\n",
              "                                     validation_fraction=0.1, verbose=False,\n",
              "                                     warm_start=False),\n",
              "             iid='deprecated', n_jobs=None,\n",
              "             param_grid={'activation': ['tanh', 'relu', 'logistic'],\n",
              "                         'alpha': [0.0001, 0.001, 0.05],\n",
              "                         'hidden_layer_sizes': [(10, 30, 10), (20, 50, 20)]},\n",
              "             pre_dispatch='2*n_jobs', refit=True, return_train_score=False,\n",
              "             scoring=None, verbose=0)"
            ]
          },
          "metadata": {
            "tags": []
          },
          "execution_count": 23
        }
      ]
    },
    {
      "cell_type": "code",
      "metadata": {
        "colab": {
          "base_uri": "https://localhost:8080/"
        },
        "id": "maCpGA9vEx1B",
        "outputId": "a17d6369-8b70-4ad8-d371-1da259cc1a95"
      },
      "source": [
        "nn.best_params_"
      ],
      "execution_count": null,
      "outputs": [
        {
          "output_type": "execute_result",
          "data": {
            "text/plain": [
              "{'activation': 'tanh', 'alpha': 0.05, 'hidden_layer_sizes': (10, 30, 10)}"
            ]
          },
          "metadata": {
            "tags": []
          },
          "execution_count": 24
        }
      ]
    },
    {
      "cell_type": "code",
      "metadata": {
        "colab": {
          "base_uri": "https://localhost:8080/"
        },
        "id": "om9Vk4SGEzd8",
        "outputId": "af7c215c-3600-4ace-fd3c-1e5b852d4dbb"
      },
      "source": [
        "nn.best_score_"
      ],
      "execution_count": null,
      "outputs": [
        {
          "output_type": "execute_result",
          "data": {
            "text/plain": [
              "0.8603332282782205"
            ]
          },
          "metadata": {
            "tags": []
          },
          "execution_count": 25
        }
      ]
    },
    {
      "cell_type": "markdown",
      "metadata": {
        "id": "-jpdz9RVOUEH"
      },
      "source": [
        "Now I will create a classification report for each model that display percision, accuracy, recall, and AUC."
      ]
    },
    {
      "cell_type": "code",
      "metadata": {
        "id": "1MEK9diEOgOL"
      },
      "source": [
        "from sklearn.metrics import classification_report"
      ],
      "execution_count": null,
      "outputs": []
    },
    {
      "cell_type": "markdown",
      "metadata": {
        "id": "G8QNl5cVOheg"
      },
      "source": [
        "Decision Tree (DT)"
      ]
    },
    {
      "cell_type": "code",
      "metadata": {
        "colab": {
          "base_uri": "https://localhost:8080/"
        },
        "id": "RJ0nk6sTOjxJ",
        "outputId": "a639774a-db00-4278-8f15-55c54d2cf29b"
      },
      "source": [
        "y_pred_dt = dt.predict(X_test)\n",
        "print(classification_report(y_test, y_pred_dt))"
      ],
      "execution_count": null,
      "outputs": [
        {
          "output_type": "stream",
          "text": [
            "              precision    recall  f1-score   support\n",
            "\n",
            "           0       0.87      0.95      0.91     13158\n",
            "           1       0.74      0.50      0.59      3768\n",
            "\n",
            "    accuracy                           0.85     16926\n",
            "   macro avg       0.80      0.72      0.75     16926\n",
            "weighted avg       0.84      0.85      0.84     16926\n",
            "\n"
          ],
          "name": "stdout"
        }
      ]
    },
    {
      "cell_type": "markdown",
      "metadata": {
        "id": "ZydERAbHOmNm"
      },
      "source": [
        "Logistic Regression (LR)"
      ]
    },
    {
      "cell_type": "code",
      "metadata": {
        "colab": {
          "base_uri": "https://localhost:8080/"
        },
        "id": "vKM7qxc4On7D",
        "outputId": "e0000785-eab4-42f9-a13d-4f9862789e3b"
      },
      "source": [
        "y_pred_lr = lr.predict(X_test)\n",
        "print(classification_report(y_test, y_pred_lr))"
      ],
      "execution_count": null,
      "outputs": [
        {
          "output_type": "stream",
          "text": [
            "              precision    recall  f1-score   support\n",
            "\n",
            "           0       0.88      0.94      0.91     13158\n",
            "           1       0.74      0.55      0.63      3768\n",
            "\n",
            "    accuracy                           0.86     16926\n",
            "   macro avg       0.81      0.75      0.77     16926\n",
            "weighted avg       0.85      0.86      0.85     16926\n",
            "\n"
          ],
          "name": "stdout"
        }
      ]
    },
    {
      "cell_type": "markdown",
      "metadata": {
        "id": "tVp3Hpk8OqBU"
      },
      "source": [
        "Neural Networks (NN)"
      ]
    },
    {
      "cell_type": "code",
      "metadata": {
        "colab": {
          "base_uri": "https://localhost:8080/"
        },
        "id": "h85GT6B5OrkT",
        "outputId": "cc8ff2a1-d3ca-4922-c86c-c1b7ee613411"
      },
      "source": [
        "y_pred_nn = nn.predict(X_test)\n",
        "print(classification_report(y_test, y_pred_nn))"
      ],
      "execution_count": null,
      "outputs": [
        {
          "output_type": "stream",
          "text": [
            "              precision    recall  f1-score   support\n",
            "\n",
            "           0       0.89      0.94      0.91     13158\n",
            "           1       0.73      0.57      0.64      3768\n",
            "\n",
            "    accuracy                           0.86     16926\n",
            "   macro avg       0.81      0.76      0.78     16926\n",
            "weighted avg       0.85      0.86      0.85     16926\n",
            "\n"
          ],
          "name": "stdout"
        }
      ]
    },
    {
      "cell_type": "markdown",
      "metadata": {
        "id": "v88gHYjtO2tz"
      },
      "source": [
        "Next, I will use a function to help with visualizing the accuracy for each model."
      ]
    },
    {
      "cell_type": "code",
      "metadata": {
        "id": "2l6dKiyCPAEo"
      },
      "source": [
        "def classification_model_evaluation(X,y,score):\n",
        "    # scoring optioon: accuracy, f1_macro, precision_macro, recall_macro\n",
        "    from sklearn.preprocessing import LabelBinarizer\n",
        "    from sklearn.metrics import roc_curve,roc_auc_score,auc\n",
        "\n",
        "    \n",
        "    # import models\n",
        "    import pandas\n",
        "    import matplotlib.pyplot as plt\n",
        "    from sklearn import model_selection\n",
        "    from sklearn.linear_model import LogisticRegression\n",
        "    from sklearn.tree import DecisionTreeClassifier\n",
        "    from sklearn.neighbors import KNeighborsClassifier\n",
        "    from sklearn.discriminant_analysis import LinearDiscriminantAnalysis\n",
        "    from sklearn.naive_bayes import GaussianNB\n",
        "    from sklearn.svm import SVC\n",
        "    from sklearn.ensemble import RandomForestClassifier\n",
        "    from sklearn.model_selection import train_test_split\n",
        "    X_train, X_test, y_train, y_test  = train_test_split(X, y, test_size=0.3, random_state=10, stratify =y)\n",
        "\n",
        "    # load models\n",
        "    seed = 1\n",
        "    models = []\n",
        "    models.append(('LR', LogisticRegression(C=100)))\n",
        "    models.append(('KNN', KNeighborsClassifier(5)))\n",
        "    models.append(('DT', DecisionTreeClassifier()))\n",
        "    #models.append(('NB', GaussianNB()))\n",
        "    #models.append(('SVM', SVC()))\n",
        "    #models.append(('LDA', LinearDiscriminantAnalysis()))\n",
        "    models.append(('RF',RandomForestClassifier()))\n",
        "    \n",
        "    results = []\n",
        "    names = []\n",
        "    models_summary = {}\n",
        "    scoring = score\n",
        "    # Define a result table as a DataFrame\n",
        "    result_table = pd.DataFrame(columns=['classifiers', 'fpr','tpr','auc'])\n",
        "    for name, model in models:\n",
        "        kfold = model_selection.KFold(n_splits=10, random_state=seed)\n",
        "        cv_results = model_selection.cross_val_score(model, X, y, cv=kfold, scoring=scoring)\n",
        "        results.append(cv_results)\n",
        "        names.append(name)\n",
        "        #print(\"%s: %f (%f)\" % (name, cv_results.mean(), cv_results.std()))\n",
        "        models_summary[name] = ([cv_results.mean(),cv_results.std()])\n",
        "        \n",
        "\n",
        "        cls = model.fit(X_train,y_train)\n",
        "        yproba = cls.predict_proba(X_test)[::,1]\n",
        "        fpr, tpr, _ = roc_curve(y_test,  yproba)\n",
        "        auc = roc_auc_score(y_test, yproba)\n",
        "    \n",
        "        result_table = result_table.append({'classifiers':cls.__class__.__name__,\n",
        "                                            'fpr':fpr, \n",
        "                                            'tpr':tpr, \n",
        "                                            'auc':auc}, ignore_index=True)\n",
        "    \n",
        "    models_summary_df = pd.DataFrame(models_summary,index=[str(score) + '_mean', str(score) + '_stdev'])\n",
        "\n",
        "    #  model comparison boxplot\n",
        "    fig = plt.figure(figsize=(10,6))\n",
        "    fig.suptitle('Model Comparison \\n Scoring: %s' %scoring)\n",
        "    ax = fig.add_subplot(111)\n",
        "    boxplot_results = pd.DataFrame(results, index=names)\n",
        "    boxplot_results.assign(m=boxplot_results.mean(axis=1)).sort_values('m').drop('m', axis=1)\n",
        "    \n",
        "    plt.boxplot(results)\n",
        "    ax.set_xticklabels(names)\n",
        "    plt.grid()\n",
        "    plt.show()\n",
        "    #print(results)\n",
        "    \n",
        "\n",
        "    # Set name of the classifiers as index labels\n",
        "    result_table.set_index('classifiers', inplace=True)\n",
        "\n",
        "    fig = plt.figure(figsize=(10,6))\n",
        "\n",
        "    for i in result_table.index:\n",
        "        plt.plot(result_table.loc[i]['fpr'], \n",
        "                 result_table.loc[i]['tpr'], \n",
        "                 label=\"{}, AUC={:.3f}\".format(i, result_table.loc[i]['auc']))\n",
        "\n",
        "    plt.plot([0,1], [0,1], color='orange', linestyle='--')\n",
        "\n",
        "    plt.xticks(np.arange(0.0, 1.1, step=0.1))\n",
        "    plt.xlabel(\"Flase Positive Rate\", fontsize=15)\n",
        "\n",
        "    plt.yticks(np.arange(0.0, 1.1, step=0.1))\n",
        "    plt.ylabel(\"True Positive Rate\", fontsize=15)\n",
        "\n",
        "    plt.title('ROC Curve Analysis', fontweight='bold', fontsize=15)\n",
        "    plt.legend(prop={'size':13}, loc='lower right')\n",
        "    plt.grid()\n",
        "    plt.show()\n",
        "    \n",
        "    display(models_summary_df.head(2))"
      ],
      "execution_count": null,
      "outputs": []
    },
    {
      "cell_type": "code",
      "metadata": {
        "colab": {
          "base_uri": "https://localhost:8080/",
          "height": 917
        },
        "id": "hkSTtxG0PFGz",
        "outputId": "0db5477e-8229-436b-b0c7-6159aa40f35d"
      },
      "source": [
        "classification_model_evaluation(X, y, \"accuracy\")"
      ],
      "execution_count": null,
      "outputs": [
        {
          "output_type": "display_data",
          "data": {
            "image/png": "[encoded data removed]",
            "text/plain": [
              "<Figure size 720x432 with 1 Axes>"
            ]
          },
          "metadata": {
            "tags": []
          }
        },
        {
          "output_type": "display_data",
          "data": {
            "image/png": "[encoded data removed]",
            "text/plain": [
              "<Figure size 720x432 with 1 Axes>"
            ]
          },
          "metadata": {
            "tags": []
          }
        },
        {
          "output_type": "display_data",
          "data": {
            "text/html": [
              "<div>\n",
              "<style scoped>\n",
              "    .dataframe tbody tr th:only-of-type {\n",
              "        vertical-align: middle;\n",
              "    }\n",
              "\n",
              "    .dataframe tbody tr th {\n",
              "        vertical-align: top;\n",
              "    }\n",
              "\n",
              "    .dataframe thead th {\n",
              "        text-align: right;\n",
              "    }\n",
              "</style>\n",
              "<table border=\"1\" class=\"dataframe\">\n",
              "  <thead>\n",
              "    <tr style=\"text-align: right;\">\n",
              "      <th></th>\n",
              "      <th>LR</th>\n",
              "      <th>KNN</th>\n",
              "      <th>DT</th>\n",
              "      <th>RF</th>\n",
              "    </tr>\n",
              "  </thead>\n",
              "  <tbody>\n",
              "    <tr>\n",
              "      <th>accuracy_mean</th>\n",
              "      <td>0.852216</td>\n",
              "      <td>0.834544</td>\n",
              "      <td>0.780769</td>\n",
              "      <td>0.856611</td>\n",
              "    </tr>\n",
              "    <tr>\n",
              "      <th>accuracy_stdev</th>\n",
              "      <td>0.023157</td>\n",
              "      <td>0.026546</td>\n",
              "      <td>0.025361</td>\n",
              "      <td>0.021432</td>\n",
              "    </tr>\n",
              "  </tbody>\n",
              "</table>\n",
              "</div>"
            ],
            "text/plain": [
              "                      LR       KNN        DT        RF\n",
              "accuracy_mean   0.852216  0.834544  0.780769  0.856611\n",
              "accuracy_stdev  0.023157  0.026546  0.025361  0.021432"
            ]
          },
          "metadata": {
            "tags": []
          }
        }
      ]
    }
  ]
}